{
  "nbformat": 4,
  "nbformat_minor": 0,
  "metadata": {
    "colab": {
      "name": "face_detection.ipynb",
      "version": "0.3.2",
      "provenance": [],
      "collapsed_sections": [],
      "include_colab_link": true
    },
    "kernelspec": {
      "name": "python3",
      "display_name": "Python 3"
    },
    "accelerator": "GPU"
  },
  "cells": [
    {
      "cell_type": "markdown",
      "metadata": {
        "id": "view-in-github",
        "colab_type": "text"
      },
      "source": [
        "<a href=\"https://colab.research.google.com/github/justadudewhohacks/ipynbs/blob/master/face_detection.ipynb\" target=\"_parent\"><img src=\"https://colab.research.google.com/assets/colab-badge.svg\" alt=\"Open In Colab\"/></a>"
      ]
    },
    {
      "cell_type": "markdown",
      "metadata": {
        "id": "yeObtjLNxBqx",
        "colab_type": "text"
      },
      "source": [
        "# Dependencies"
      ]
    },
    {
      "cell_type": "code",
      "metadata": {
        "id": "rm3eajF2xAx_",
        "colab_type": "code",
        "colab": {}
      },
      "source": [
        "!pip install -U -q PyDrive\n",
        "!pip install git+https://github.com/justadudewhohacks/image_augment.py\n",
        "!pip install git+https://github.com/justadudewhohacks/colabsnippets"
      ],
      "execution_count": 0,
      "outputs": []
    },
    {
      "cell_type": "markdown",
      "metadata": {
        "colab_type": "text",
        "id": "hof5xhmLh3uf"
      },
      "source": [
        "# Download Data"
      ]
    },
    {
      "cell_type": "code",
      "metadata": {
        "colab_type": "code",
        "id": "vh2ay-TCh3ul",
        "colab": {}
      },
      "source": [
        "from colabsnippets.DataDownloader import DataDownloader\n",
        "\n",
        "data_downloader = DataDownloader(data_dir = './data')\n",
        "\n",
        "data_downloader.download_data({\n",
        "\t\"WIDER\" : [\n",
        "    { \"images\": \"1JHmXqGPngDCbM56eYPeqsaCgJC4vgL4m\", \"boxes\": \"1aeAGd5LmL8EBB1yaZxKOp1NbZ1CBJBmm\" }\n",
        "\t]\n",
        "}, ['boxes'])\n",
        "\n",
        "print('done!')"
      ],
      "execution_count": 0,
      "outputs": []
    },
    {
      "cell_type": "markdown",
      "metadata": {
        "id": "2PXB_uMCpaYG",
        "colab_type": "text"
      },
      "source": [
        "# Common"
      ]
    },
    {
      "cell_type": "code",
      "metadata": {
        "id": "GH6DheKgpfU_",
        "colab_type": "code",
        "colab": {}
      },
      "source": [
        "import cv2\n",
        "import math\n",
        "import json\n",
        "import random\n",
        "import time\n",
        "import types\n",
        "import os\n",
        "import numpy as np\n",
        "import tensorflow as tf\n",
        "from augment import ImageAugmentor, augment\n",
        "from augment.augment import abs_coords\n",
        "from colabsnippets.utils import load_json\n",
        "from colabsnippets import BatchLoader\n",
        "\n",
        "'''\n",
        "--------------------------------------------------------------------------------\n",
        "\n",
        "Data Loader\n",
        "\n",
        "--------------------------------------------------------------------------------\n",
        "'''\n",
        "  \n",
        "def transform_boxes(boxes):\n",
        "  out_boxes = []\n",
        "  for box in boxes:\n",
        "    out_box = (box['x'], box['y'], box['width'], box['height'])\n",
        "    for val in out_box:\n",
        "      if abs(val) > 1.0:\n",
        "        raise Exception(\"box is probably not a valid relative box: {}\".format(out_box))\n",
        "    out_boxes.append(out_box)\n",
        "  return out_boxes\n",
        "  \n",
        "def extract_data_labels(data):\n",
        "  db = data['db']\n",
        "  img_file = data['file']\n",
        "  boxes_file = img_file.replace('.jpg', '.json')\n",
        "  boxes_dir = \"boxes-shard{}\".format(data['shard']) if 'shard' in data else 'boxes'\n",
        "  boxes_path = \"./data/{}/{}/{}\".format(db, boxes_dir, boxes_file)\n",
        "  boxes = load_json(boxes_path)\n",
        "  return transform_boxes(boxes)\n",
        "    \n",
        "def resolve_image_path(data):\n",
        "  db = data['db']\n",
        "  img_file = data['file']\n",
        "  img_dir = \"images-shard{}\".format(data['shard']) if 'shard' in data else 'images'\n",
        "  img_path = \"./data/{}/{}/{}\".format(db, img_dir, img_file)\n",
        "  return img_path\n",
        "\n",
        "def min_bbox(boxes):\n",
        "  min_x, min_y, max_x, max_y = 1.0, 1.0, 0, 0\n",
        "  for box in boxes:\n",
        "    x, y, w, h = box\n",
        "    pts = [(x, y), (x + w, y + h)]\n",
        "    for x, y in pts:\n",
        "      min_x = x if x < min_x else min_x\n",
        "      min_y = y if y < min_y else min_y\n",
        "      max_x = max_x if x < max_x else x\n",
        "      max_y = max_y if y < max_y else y\n",
        "\n",
        "  return [min_x, min_y, max_x, max_y]\n",
        "\n",
        "class DataLoader(BatchLoader):\n",
        "  def __init__(self, data, image_augmentor = None, start_epoch = None, is_test = False):  \n",
        "    self.image_augmentor = image_augmentor\n",
        "    BatchLoader.__init__(\n",
        "      self, \n",
        "      data if type(data) is types.FunctionType else lambda: data, \n",
        "      resolve_image_path, \n",
        "      extract_data_labels,\n",
        "      start_epoch = start_epoch, \n",
        "      is_test = is_test\n",
        "    )\n",
        "      \n",
        "  def load_image_and_labels_batch(self, datas, image_size):\n",
        "    batch_x, batch_y = [], []\n",
        "    for data in datas:\n",
        "      boxes = self.extract_data_labels(data)\n",
        "      image = self.load_image(data)\n",
        "      roi = min_bbox(boxes)\n",
        "      if self.image_augmentor is not None:\n",
        "        image, boxes = self.image_augmentor.augment(image, boxes = boxes, random_crop = roi, pad_to_square = True, resize = image_size)\n",
        "      else:\n",
        "        image, boxes = augment(image, boxes = boxes, random_crop = roi, pad_to_square = True, resize = image_size)\n",
        "      batch_x.append(image)\n",
        "      batch_y.append(boxes)\n",
        "        \n",
        "    return batch_x, batch_y\n",
        "\n",
        "\n",
        "'''\n",
        "--------------------------------------------------------------------------------\n",
        "\n",
        "utility\n",
        "\n",
        "--------------------------------------------------------------------------------\n",
        "'''\n",
        "\n",
        "def gpu_session(callback):\n",
        "  config = tf.ConfigProto()\n",
        "  config.gpu_options.allow_growth = True\n",
        "  config.allow_soft_placement = True\n",
        "  config.log_device_placement = True\n",
        "  with tf.Session(config = config) as session:\n",
        "    with tf.device('/gpu:0'):\n",
        "      return callback(session)\n",
        "\n",
        "def get_checkpoint(model_name, epoch):\n",
        "  return model_name + '.ckpt-' + str(epoch)\n",
        "\n",
        "def draw_box(img, box):\n",
        "  x, y, w, h = abs_coords(box, img)\n",
        "\n",
        "  cv2.rectangle(img, (x, y), (x + w, y + h), (255, 0, 0), 1)\n",
        "  cv2.circle(img, (x, y), 2, (0, 0, 255), -1)\n",
        "  cv2.circle(img, (x, y + h), 2, (0, 0, 255), -1)\n",
        "  cv2.circle(img, (x + w, y), 2, (0, 0, 255), -1)\n",
        "  cv2.circle(img, (x + w, y + h), 2, (0, 0, 255), -1)"
      ],
      "execution_count": 0,
      "outputs": []
    },
    {
      "cell_type": "markdown",
      "metadata": {
        "id": "BzrnLqK-rOZe",
        "colab_type": "text"
      },
      "source": [
        "# Train"
      ]
    },
    {
      "cell_type": "markdown",
      "metadata": {
        "id": "5TyJwdrD0W2B",
        "colab_type": "text"
      },
      "source": [
        "## Neural Network"
      ]
    },
    {
      "cell_type": "code",
      "metadata": {
        "id": "aXMUkMMDrQqu",
        "colab_type": "code",
        "colab": {}
      },
      "source": [
        "import tensorflow as tf\n",
        "\n",
        "from colabsnippets import NeuralNetwork\n",
        "from colabsnippets.ops import normalize, conv2d, depthwise_separable_conv2d\n",
        "\n",
        "default_anchors = [\n",
        "  (1.603231, 2.094468),\n",
        "  (6.041143, 7.080126),\n",
        "  (2.882459, 3.518061),\n",
        "  (4.266906, 5.178857),\n",
        "  (9.041765, 10.66308)\n",
        "]\n",
        "default_mean_rgb = [117.001, 114.697, 97.404]\n",
        "\n",
        "class TinyYolov2Mobilenet(NeuralNetwork):\n",
        "  def __init__(self, name = 'tiny_yolov2_mobilenet', anchors = default_anchors, mean_rgb = default_mean_rgb):\n",
        "    super().__init__(self.initialize_weights, name = name)\n",
        "    self.anchors = anchors\n",
        "    self.mean_rgb = mean_rgb\n",
        "    \n",
        "    self.box_encoding_size = 5\n",
        "    num_downscale_ops = 5\n",
        "    self.cell_size = 2 ** num_downscale_ops\n",
        "\n",
        "  def initialize_weights(self, weight_processor):\n",
        "    with tf.variable_scope(self.name):\n",
        "      weight_processor.process_conv_weights(3, 32, 'conv_in')\n",
        "      weight_processor.process_depthwise_separable_conv2d_weights(32, 64, 'separable_conv0')\n",
        "      weight_processor.process_depthwise_separable_conv2d_weights(64, 128, 'separable_conv1')\n",
        "      weight_processor.process_depthwise_separable_conv2d_weights(128, 256, 'separable_conv2')\n",
        "      weight_processor.process_depthwise_separable_conv2d_weights(256, 512, 'separable_conv3')\n",
        "      weight_processor.process_depthwise_separable_conv2d_weights(512, 1024, 'separable_conv4')\n",
        "      weight_processor.process_conv_weights(1024, len(self.anchors) * self.box_encoding_size, 'conv_out', filter_size = 1)\n",
        "\n",
        "  def depthwise_separable_conv2d(self, x, name):\n",
        "    return depthwise_separable_conv2d(x, name, [1, 1, 1, 1])\n",
        "    \n",
        "  def leaky_relu(self, x):\n",
        "    return tf.nn.leaky_relu(x, alpha = 0.1)\n",
        "  \n",
        "  def max_pool(self, x, is_scale_down = True):\n",
        "    stride = [1, 2, 2, 1] if is_scale_down else [1, 1, 1, 1]\n",
        "    return tf.nn.max_pool(x, [1, 2, 2, 1], stride, 'SAME')\n",
        "    \n",
        "  def forward(self, batch_tensor):\n",
        "    out = normalize(batch_tensor, self.mean_rgb)\n",
        "\n",
        "    with tf.variable_scope(self.name, reuse = True):\n",
        "      out = self.max_pool(self.leaky_relu(conv2d(out, 'conv_in', [1, 1, 1, 1])))\n",
        "      out = self.max_pool(self.leaky_relu(self.depthwise_separable_conv2d(out, 'separable_conv0')))\n",
        "      out = self.max_pool(self.leaky_relu(self.depthwise_separable_conv2d(out, 'separable_conv1')))\n",
        "      out = self.max_pool(self.leaky_relu(self.depthwise_separable_conv2d(out, 'separable_conv2')))\n",
        "      out = self.max_pool(self.leaky_relu(self.depthwise_separable_conv2d(out, 'separable_conv3')))\n",
        "      out = self.max_pool(self.leaky_relu(self.depthwise_separable_conv2d(out, 'separable_conv4')), is_scale_down = False)\n",
        "      out = conv2d(out, 'conv_out', [1, 1, 1, 1])\n",
        "\n",
        "    return out"
      ],
      "execution_count": 0,
      "outputs": []
    },
    {
      "cell_type": "markdown",
      "metadata": {
        "id": "pV2Fc73h5tdx",
        "colab_type": "text"
      },
      "source": [
        "## Loss Function"
      ]
    },
    {
      "cell_type": "code",
      "metadata": {
        "id": "sKvTX1ku5shN",
        "colab_type": "code",
        "colab": {
          "base_uri": "https://localhost:8080/",
          "height": 102
        },
        "outputId": "1b8b3bd1-70c8-475e-f0a7-b0bde714fa58"
      },
      "source": [
        "import math\n",
        "import numpy as np\n",
        "\n",
        "def calculate_iou(box0, box1):\n",
        "  x0, y0, w0, h0 = box0\n",
        "  x1, y1, w1, h1 = box1\n",
        "  \n",
        "  inter_ul_x, inter_ul_y = max(x0, x1), max(y0, y1)\n",
        "  inter_br_x, inter_br_y = (min(x0 + w0, x1 + w1), min(y0 + h0, y1 + h1))\n",
        "  inter_w, inter_h = inter_br_x - inter_ul_x, inter_br_y - inter_ul_y\n",
        "  \n",
        "  area0 = w0 * h0\n",
        "  area1 = w1 * h1\n",
        "  inter_area = inter_w * inter_h\n",
        "  \n",
        "  return inter_area / float(area0 + area1 - inter_area)\n",
        "\n",
        "def create_ground_truth_mask(cell_size, box_encoding_size, anchors, input_size, batch_size, batch_gt_boxes):\n",
        "  num_cells = input_size / cell_size\n",
        "  mask = np.zeros([batch_size, num_cells, num_cells, len(anchors)])\n",
        "  \n",
        "  for batch_idx, gt_boxes in enumerate(batch_gt_boxes):\n",
        "    for gt_box in gt_boxes:\n",
        "      x, y, w, h = gt_box\n",
        "      ct_x = x + (w / 2)\n",
        "      ct_y = y + (h / 2)\n",
        "      col = math.floor(ct_x / num_cells)\n",
        "      row = math.floor(ct_y / num_cells)\n",
        "\n",
        "      highest_iou = 0\n",
        "      highest_iou_anchor_idx = 0\n",
        "      for anchor_idx, anchor in enumerate(anchors):\n",
        "        anchor_box = (0, 0, cell_size, cell_size)\n",
        "        abs_box = (0, 0, w * input_size, h * input_size)\n",
        "        iou = calculate_iou(anchor_box, abs_box)\n",
        "        if highest_iou < iou:\n",
        "          highest_iou = iou\n",
        "          highest_iou_anchor_idx = anchor_idx\n",
        "\n",
        "      mask[batch_idx, row, col, anchor_idx] = 1"
      ],
      "execution_count": 63,
      "outputs": [
        {
          "output_type": "stream",
          "text": [
            "0.7957712638154734\n",
            "1.0\n",
            "0.5\n",
            "0.25\n",
            "0.1111111111111111\n"
          ],
          "name": "stdout"
        }
      ]
    },
    {
      "cell_type": "markdown",
      "metadata": {
        "id": "Mxn_Wt6I0Zhr",
        "colab_type": "text"
      },
      "source": [
        "## Train"
      ]
    },
    {
      "cell_type": "code",
      "metadata": {
        "id": "2NHYbEjH0amw",
        "colab_type": "code",
        "colab": {
          "base_uri": "https://localhost:8080/",
          "height": 374
        },
        "outputId": "89ef7a37-f50c-494e-b9a8-b8898d00ca17"
      },
      "source": [
        "tf.reset_default_graph()\n",
        "\n",
        "net = TinyYolov2Mobilenet()\n",
        "model_name = net.name\n",
        "\n",
        "# training parameters\n",
        "learning_rate = 0.001\n",
        "start_epoch = 0\n",
        "batch_size = 1\n",
        "image_size = 416\n",
        "\n",
        "image_augmentor = ImageAugmentor.load('./augmentor_4.json')\n",
        "train_data = load_json('./data/trainData.json')\n",
        "data_loader = DataLoader(train_data, start_epoch = start_epoch, image_augmentor = image_augmentor)\n",
        "net.init_trainable_weights()\n",
        "\n",
        "X = tf.placeholder(tf.float32, [batch_size, image_size, image_size, 3])\n",
        "out_op = net.forward(X)\n",
        "\n",
        "saver = tf.train.Saver(max_to_keep = None)\n",
        "  \n",
        "print(len(train_data))\n",
        "log_file = open('./log.txt', 'w')\n",
        "\n",
        "def train(sess):\n",
        "  total_loss = 0\n",
        "  iteration_count = 0\n",
        "  ts_epoch = time.time()\n",
        "  \n",
        "  sess.run(tf.global_variables_initializer())\n",
        "\n",
        "  if (start_epoch != 0):\n",
        "    checkpoint = get_checkpoint(start_epoch - 1)\n",
        "    saver.restore(sess, checkpoint)\n",
        "    print('done restoring session')\n",
        "\n",
        "  while True:\n",
        "    epoch = data_loader.epoch\n",
        "    current_idx = data_loader.current_idx\n",
        "    end_idx = data_loader.get_end_idx()\n",
        "\n",
        "    ts = time.time()\n",
        "\n",
        "    batch_x, batch_boxes = data_loader.next_batch(batch_size, image_size)\n",
        "    out, = sess.run([out_op], feed_dict = { X: batch_x })\n",
        "    print(out.shape)\n",
        "\n",
        "    loss = 0\n",
        "    total_loss += loss\n",
        "    iteration_count += 1\n",
        "    \n",
        "    log_file.write(\"epoch \" + str(epoch) + \", (\" + str(current_idx) + \" of \" + str(end_idx) + \"), loss= \" + \"{:.4f}\".format(loss) \n",
        "          + \", time= \" + str((time.time() - ts) * 1000) + \"ms \\n\")\n",
        "\n",
        "    if epoch != data_loader.epoch:\n",
        "      avg_loss = total_loss / iteration_count\n",
        "      print('next epoch: ' + str(data_loader.epoch))\n",
        "      print('avg_loss= ' + str(avg_loss))\n",
        "      saver.save(sess, model_name + '.ckpt', global_step = epoch)\n",
        "\n",
        "      epoch_txt_file_path = 'epoch_' + str(epoch) + '.txt'\n",
        "      epoch_txt = open(epoch_txt_file_path, 'w')\n",
        "      epoch_txt.write('total_loss= ' + str(total_loss) + '\\n')\n",
        "      epoch_txt.write('avg_loss= ' + str(avg_loss) + '\\n')\n",
        "      epoch_txt.write('learning_rate= ' + str(learning_rate) + '\\n')\n",
        "      epoch_txt.write('batch_size= ' + str(batch_size) + '\\n')\n",
        "      epoch_txt.write('epoch_time= ' + str(time.time() - ts_epoch) + 's \\n')\n",
        "      epoch_txt.close()\n",
        "\n",
        "      total_loss = 0\n",
        "      iteration_count = 0        \n",
        "      ts_epoch = time.time()\n",
        "        \n",
        "  print('done!')\n",
        "  log_file.close() \n",
        "    \n",
        "gpu_session(train)"
      ],
      "execution_count": 43,
      "outputs": [
        {
          "output_type": "stream",
          "text": [
            "12880\n",
            "(1, 13, 13, 25)\n"
          ],
          "name": "stdout"
        },
        {
          "output_type": "error",
          "ename": "NameError",
          "evalue": "ignored",
          "traceback": [
            "\u001b[0;31m---------------------------------------------------------------------------\u001b[0m",
            "\u001b[0;31mNameError\u001b[0m                                 Traceback (most recent call last)",
            "\u001b[0;32m<ipython-input-43-178af2128ef7>\u001b[0m in \u001b[0;36m<module>\u001b[0;34m()\u001b[0m\n\u001b[1;32m     74\u001b[0m   \u001b[0mlog_file\u001b[0m\u001b[0;34m.\u001b[0m\u001b[0mclose\u001b[0m\u001b[0;34m(\u001b[0m\u001b[0;34m)\u001b[0m\u001b[0;34m\u001b[0m\u001b[0;34m\u001b[0m\u001b[0m\n\u001b[1;32m     75\u001b[0m \u001b[0;34m\u001b[0m\u001b[0m\n\u001b[0;32m---> 76\u001b[0;31m \u001b[0mgpu_session\u001b[0m\u001b[0;34m(\u001b[0m\u001b[0mtrain\u001b[0m\u001b[0;34m)\u001b[0m\u001b[0;34m\u001b[0m\u001b[0;34m\u001b[0m\u001b[0m\n\u001b[0m",
            "\u001b[0;32m<ipython-input-26-7edc1658c78d>\u001b[0m in \u001b[0;36mgpu_session\u001b[0;34m(callback)\u001b[0m\n\u001b[1;32m    103\u001b[0m   \u001b[0;32mwith\u001b[0m \u001b[0mtf\u001b[0m\u001b[0;34m.\u001b[0m\u001b[0mSession\u001b[0m\u001b[0;34m(\u001b[0m\u001b[0mconfig\u001b[0m \u001b[0;34m=\u001b[0m \u001b[0mconfig\u001b[0m\u001b[0;34m)\u001b[0m \u001b[0;32mas\u001b[0m \u001b[0msession\u001b[0m\u001b[0;34m:\u001b[0m\u001b[0;34m\u001b[0m\u001b[0;34m\u001b[0m\u001b[0m\n\u001b[1;32m    104\u001b[0m     \u001b[0;32mwith\u001b[0m \u001b[0mtf\u001b[0m\u001b[0;34m.\u001b[0m\u001b[0mdevice\u001b[0m\u001b[0;34m(\u001b[0m\u001b[0;34m'/gpu:0'\u001b[0m\u001b[0;34m)\u001b[0m\u001b[0;34m:\u001b[0m\u001b[0;34m\u001b[0m\u001b[0;34m\u001b[0m\u001b[0m\n\u001b[0;32m--> 105\u001b[0;31m       \u001b[0;32mreturn\u001b[0m \u001b[0mcallback\u001b[0m\u001b[0;34m(\u001b[0m\u001b[0msession\u001b[0m\u001b[0;34m)\u001b[0m\u001b[0;34m\u001b[0m\u001b[0;34m\u001b[0m\u001b[0m\n\u001b[0m\u001b[1;32m    106\u001b[0m \u001b[0;34m\u001b[0m\u001b[0m\n\u001b[1;32m    107\u001b[0m \u001b[0;32mdef\u001b[0m \u001b[0mget_checkpoint\u001b[0m\u001b[0;34m(\u001b[0m\u001b[0mmodel_name\u001b[0m\u001b[0;34m,\u001b[0m \u001b[0mepoch\u001b[0m\u001b[0;34m)\u001b[0m\u001b[0;34m:\u001b[0m\u001b[0;34m\u001b[0m\u001b[0;34m\u001b[0m\u001b[0m\n",
            "\u001b[0;32m<ipython-input-43-178af2128ef7>\u001b[0m in \u001b[0;36mtrain\u001b[0;34m(sess)\u001b[0m\n\u001b[1;32m     50\u001b[0m \u001b[0;34m\u001b[0m\u001b[0m\n\u001b[1;32m     51\u001b[0m     log_file.write(\"epoch \" + str(epoch) + \", (\" + str(current_idx) + \" of \" + str(end_idx) + \"), loss= \" + \"{:.4f}\".format(loss) \n\u001b[0;32m---> 52\u001b[0;31m           + \", time= \" + str((time.time() - ts) * 1000) + \"ms \\n\")\n\u001b[0m\u001b[1;32m     53\u001b[0m \u001b[0;34m\u001b[0m\u001b[0m\n\u001b[1;32m     54\u001b[0m     \u001b[0;32mif\u001b[0m \u001b[0mepoch\u001b[0m \u001b[0;34m!=\u001b[0m \u001b[0mdata_loader\u001b[0m\u001b[0;34m.\u001b[0m\u001b[0mepoch\u001b[0m\u001b[0;34m:\u001b[0m\u001b[0;34m\u001b[0m\u001b[0;34m\u001b[0m\u001b[0m\n",
            "\u001b[0;31mNameError\u001b[0m: name 'loss' is not defined"
          ]
        }
      ]
    },
    {
      "cell_type": "markdown",
      "metadata": {
        "id": "1--PqzIsLg27",
        "colab_type": "text"
      },
      "source": [
        "# Debug"
      ]
    },
    {
      "cell_type": "markdown",
      "metadata": {
        "id": "n29zYuNALlQs",
        "colab_type": "text"
      },
      "source": [
        "## Check Inputs"
      ]
    },
    {
      "cell_type": "code",
      "metadata": {
        "id": "Euit4LNQLfoz",
        "colab_type": "code",
        "colab": {}
      },
      "source": [
        "!rm -rf ./check_inputs && mkdir ./check_inputs\n",
        "\n",
        "from IPython.display import Image, display\n",
        "\n",
        "num_inputs = 10\n",
        "image_size = 400\n",
        "num_images_per_row = 2\n",
        "db = 'WIDER'\n",
        "\n",
        "image_augmentor = ImageAugmentor.load('./augmentor_4.json')\n",
        "train_data = load_json('./data/trainData.json')\n",
        "\n",
        "db_data = []\n",
        "for data in train_data:\n",
        "  if db is None or data['db'] == db:\n",
        "    db_data.append(data)\n",
        "    \n",
        "data_loader = DataLoader(db_data, start_epoch = 0, image_augmentor = image_augmentor)\n",
        "batch_x, batch_y = data_loader.next_batch(num_inputs, image_size)\n",
        "\n",
        "file_idx = 0\n",
        "idx = 0\n",
        "while idx < num_inputs:\n",
        "  imgs = np.stack(batch_x[idx : idx + num_images_per_row], axis = 0)\n",
        "  all_boxes = batch_y[idx : idx + num_images_per_row]\n",
        "  for i, boxes in enumerate(all_boxes):\n",
        "    for box in boxes:\n",
        "      draw_box(imgs[i], box)\n",
        "  \n",
        "  merged_img = np.concatenate(imgs, axis = 1)\n",
        "  \n",
        "  file = './check_inputs/' + str(file_idx) + '.jpg'\n",
        "  cv2.imwrite(file, merged_img)\n",
        "  display(Image(file))\n",
        "  \n",
        "  file_idx += 1\n",
        "  idx += num_images_per_row\n",
        "\n",
        "!rm -rf ./check_inputs"
      ],
      "execution_count": 0,
      "outputs": []
    }
  ]
}