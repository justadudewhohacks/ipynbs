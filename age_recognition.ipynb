{
  "nbformat": 4,
  "nbformat_minor": 0,
  "metadata": {
    "colab": {
      "name": "age_recognition.ipynb",
      "version": "0.3.2",
      "provenance": [],
      "collapsed_sections": [],
      "toc_visible": true,
      "include_colab_link": true
    },
    "kernelspec": {
      "name": "python3",
      "display_name": "Python 3"
    }
  },
  "cells": [
    {
      "cell_type": "markdown",
      "metadata": {
        "id": "view-in-github",
        "colab_type": "text"
      },
      "source": [
        "<a href=\"https://colab.research.google.com/github/justadudewhohacks/ipynbs/blob/master/age_recognition.ipynb\" target=\"_parent\"><img src=\"https://colab.research.google.com/assets/colab-badge.svg\" alt=\"Open In Colab\"/></a>"
      ]
    },
    {
      "metadata": {
        "id": "ht-jSYnkRl3G",
        "colab_type": "text"
      },
      "cell_type": "markdown",
      "source": [
        "### Dependencies\n"
      ]
    },
    {
      "metadata": {
        "id": "6dwkETQzJjnc",
        "colab_type": "code",
        "colab": {}
      },
      "cell_type": "code",
      "source": [
        "!apt-get install p7zip-full\n",
        "!pip install -U -q PyDrive"
      ],
      "execution_count": 0,
      "outputs": []
    },
    {
      "metadata": {
        "id": "2ZLF_BXtSdtD",
        "colab_type": "text"
      },
      "cell_type": "markdown",
      "source": [
        "### Download Data"
      ]
    },
    {
      "metadata": {
        "id": "e6RkL5CMhNjQ",
        "colab_type": "code",
        "colab": {}
      },
      "cell_type": "code",
      "source": [
        "from pydrive.auth import GoogleAuth\n",
        "from pydrive.drive import GoogleDrive\n",
        "from google.colab import auth\n",
        "from oauth2client.client import GoogleCredentials\n",
        "import os\n",
        "\n",
        "if not os.path.exists('./data'):\n",
        "  os.makedirs('./data')\n",
        "if not os.path.exists('./data/utk'):\n",
        "  os.makedirs('./data/utk')\n",
        "if not os.path.exists('./data/appareal'):\n",
        "  os.makedirs('./data/appareal')\n",
        "if not os.path.exists('./data/wiki'):\n",
        "  os.makedirs('./data/wiki')\n",
        "\n",
        "auth.authenticate_user()\n",
        "gauth = GoogleAuth()\n",
        "gauth.credentials = GoogleCredentials.get_application_default()\n",
        "drive = GoogleDrive(gauth)\n",
        "  \n",
        "print('downloading utk data...')\n",
        "drive.CreateFile({ 'id': os.environ['utk_images_7z_id'] }).GetContentFile('./data/utk/images.7z')\n",
        "drive.CreateFile({ 'id': os.environ['utk_landmarks_7z_id'] }).GetContentFile('./data/utk/landmarks.7z')\n",
        "\n",
        "print('downloading appareal data...')\n",
        "drive.CreateFile({ 'id': os.environ['appareal_labels_json_id'] }).GetContentFile('./data/appareal/labels.json')\n",
        "drive.CreateFile({ 'id': os.environ['appareal_images_7z_id'] }).GetContentFile('./data/appareal/images.7z')\n",
        "drive.CreateFile({ 'id': os.environ['appareal_landmarks_7z_id'] }).GetContentFile('./data/appareal/landmarks.7z')\n",
        "\n",
        "print('downloading wiki data...')\n",
        "drive.CreateFile({ 'id': os.environ['wiki_labels_json_id'] }).GetContentFile('./data/wiki/labels.json')\n",
        "drive.CreateFile({ 'id': os.environ['wiki_images_7z_id'] }).GetContentFile('./data/wiki/images.7z')\n",
        "drive.CreateFile({ 'id': os.environ['wiki_landmarks_7z_id'] }).GetContentFile('./data/wiki/landmarks.7z')\n",
        "  \n",
        "print('done!')"
      ],
      "execution_count": 0,
      "outputs": []
    },
    {
      "metadata": {
        "id": "AzXVQlrtMn8u",
        "colab_type": "code",
        "colab": {}
      },
      "cell_type": "code",
      "source": [
        ""
      ],
      "execution_count": 0,
      "outputs": []
    },
    {
      "metadata": {
        "id": "NJE8L6bFY-Pn",
        "colab_type": "text"
      },
      "cell_type": "markdown",
      "source": [
        "### Unzip Data"
      ]
    },
    {
      "metadata": {
        "id": "d1rf140N_pmo",
        "colab_type": "code",
        "colab": {}
      },
      "cell_type": "code",
      "source": [
        "!cd ./data/utk && p7zip -d ./images.7z\n",
        "!cd ./data/utk && p7zip -d ./landmarks.7z\n",
        "!cd ./data/appareal && p7zip -d ./images.7z\n",
        "!cd ./data/appareal && p7zip -d ./landmarks.7z\n",
        "!cd ./data/wiki && p7zip -d ./images.7z\n",
        "!cd ./data/wiki && p7zip -d ./landmarks.7z"
      ],
      "execution_count": 0,
      "outputs": []
    }
  ]
}